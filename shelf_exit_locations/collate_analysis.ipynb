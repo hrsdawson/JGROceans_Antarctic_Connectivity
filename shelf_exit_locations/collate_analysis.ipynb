{
 "cells": [
  {
   "cell_type": "markdown",
   "id": "9c255ad6-7cbc-4e82-9056-76a9230817be",
   "metadata": {},
   "source": [
    "# Combined shelft exit location files"
   ]
  },
  {
   "cell_type": "code",
   "execution_count": 10,
   "id": "4ff85a9c-aa05-4880-826b-920f646c0b21",
   "metadata": {},
   "outputs": [],
   "source": [
    "# Importing the relevant modules. \n",
    "import numpy as np\n",
    "import xarray as xr\n",
    "import pandas as pd\n",
    "from glob import glob\n",
    "import random\n",
    "import gsw\n",
    "from datetime import datetime"
   ]
  },
  {
   "cell_type": "code",
   "execution_count": 11,
   "id": "f9bc2730-5883-4000-97cc-2143584ef70a",
   "metadata": {},
   "outputs": [],
   "source": [
    "# define particle depths (or densities) of interest. \n",
    "zstart = 27.8\n",
    "zend = 30"
   ]
  },
  {
   "cell_type": "code",
   "execution_count": 14,
   "id": "b0f74dc8-9b21-463c-9618-886dd07cf7da",
   "metadata": {
    "scrolled": true,
    "tags": []
   },
   "outputs": [
    {
     "name": "stdout",
     "output_type": "stream",
     "text": [
      "73\n"
     ]
    },
    {
     "data": {
      "text/plain": [
       "['/g/data/e14/hd4873/runs/parcels/output/AntConn/data/offshore/OffshoreParticles_1x0.5degree_file-00_27.8-30sigma0.nc',\n",
       " '/g/data/e14/hd4873/runs/parcels/output/AntConn/data/offshore/OffshoreParticles_1x0.5degree_file-01_27.8-30sigma0.nc',\n",
       " '/g/data/e14/hd4873/runs/parcels/output/AntConn/data/offshore/OffshoreParticles_1x0.5degree_file-02_27.8-30sigma0.nc',\n",
       " '/g/data/e14/hd4873/runs/parcels/output/AntConn/data/offshore/OffshoreParticles_1x0.5degree_file-03_27.8-30sigma0.nc',\n",
       " '/g/data/e14/hd4873/runs/parcels/output/AntConn/data/offshore/OffshoreParticles_1x0.5degree_file-04_27.8-30sigma0.nc',\n",
       " '/g/data/e14/hd4873/runs/parcels/output/AntConn/data/offshore/OffshoreParticles_1x0.5degree_file-05_27.8-30sigma0.nc',\n",
       " '/g/data/e14/hd4873/runs/parcels/output/AntConn/data/offshore/OffshoreParticles_1x0.5degree_file-06_27.8-30sigma0.nc',\n",
       " '/g/data/e14/hd4873/runs/parcels/output/AntConn/data/offshore/OffshoreParticles_1x0.5degree_file-07_27.8-30sigma0.nc',\n",
       " '/g/data/e14/hd4873/runs/parcels/output/AntConn/data/offshore/OffshoreParticles_1x0.5degree_file-08_27.8-30sigma0.nc',\n",
       " '/g/data/e14/hd4873/runs/parcels/output/AntConn/data/offshore/OffshoreParticles_1x0.5degree_file-09_27.8-30sigma0.nc',\n",
       " '/g/data/e14/hd4873/runs/parcels/output/AntConn/data/offshore/OffshoreParticles_1x0.5degree_file-10_27.8-30sigma0.nc',\n",
       " '/g/data/e14/hd4873/runs/parcels/output/AntConn/data/offshore/OffshoreParticles_1x0.5degree_file-11_27.8-30sigma0.nc',\n",
       " '/g/data/e14/hd4873/runs/parcels/output/AntConn/data/offshore/OffshoreParticles_1x0.5degree_file-12_27.8-30sigma0.nc',\n",
       " '/g/data/e14/hd4873/runs/parcels/output/AntConn/data/offshore/OffshoreParticles_1x0.5degree_file-13_27.8-30sigma0.nc',\n",
       " '/g/data/e14/hd4873/runs/parcels/output/AntConn/data/offshore/OffshoreParticles_1x0.5degree_file-14_27.8-30sigma0.nc',\n",
       " '/g/data/e14/hd4873/runs/parcels/output/AntConn/data/offshore/OffshoreParticles_1x0.5degree_file-15_27.8-30sigma0.nc',\n",
       " '/g/data/e14/hd4873/runs/parcels/output/AntConn/data/offshore/OffshoreParticles_1x0.5degree_file-16_27.8-30sigma0.nc',\n",
       " '/g/data/e14/hd4873/runs/parcels/output/AntConn/data/offshore/OffshoreParticles_1x0.5degree_file-17_27.8-30sigma0.nc',\n",
       " '/g/data/e14/hd4873/runs/parcels/output/AntConn/data/offshore/OffshoreParticles_1x0.5degree_file-18_27.8-30sigma0.nc',\n",
       " '/g/data/e14/hd4873/runs/parcels/output/AntConn/data/offshore/OffshoreParticles_1x0.5degree_file-19_27.8-30sigma0.nc',\n",
       " '/g/data/e14/hd4873/runs/parcels/output/AntConn/data/offshore/OffshoreParticles_1x0.5degree_file-20_27.8-30sigma0.nc',\n",
       " '/g/data/e14/hd4873/runs/parcels/output/AntConn/data/offshore/OffshoreParticles_1x0.5degree_file-21_27.8-30sigma0.nc',\n",
       " '/g/data/e14/hd4873/runs/parcels/output/AntConn/data/offshore/OffshoreParticles_1x0.5degree_file-22_27.8-30sigma0.nc',\n",
       " '/g/data/e14/hd4873/runs/parcels/output/AntConn/data/offshore/OffshoreParticles_1x0.5degree_file-23_27.8-30sigma0.nc',\n",
       " '/g/data/e14/hd4873/runs/parcels/output/AntConn/data/offshore/OffshoreParticles_1x0.5degree_file-24_27.8-30sigma0.nc',\n",
       " '/g/data/e14/hd4873/runs/parcels/output/AntConn/data/offshore/OffshoreParticles_1x0.5degree_file-25_27.8-30sigma0.nc',\n",
       " '/g/data/e14/hd4873/runs/parcels/output/AntConn/data/offshore/OffshoreParticles_1x0.5degree_file-26_27.8-30sigma0.nc',\n",
       " '/g/data/e14/hd4873/runs/parcels/output/AntConn/data/offshore/OffshoreParticles_1x0.5degree_file-27_27.8-30sigma0.nc',\n",
       " '/g/data/e14/hd4873/runs/parcels/output/AntConn/data/offshore/OffshoreParticles_1x0.5degree_file-28_27.8-30sigma0.nc',\n",
       " '/g/data/e14/hd4873/runs/parcels/output/AntConn/data/offshore/OffshoreParticles_1x0.5degree_file-29_27.8-30sigma0.nc',\n",
       " '/g/data/e14/hd4873/runs/parcels/output/AntConn/data/offshore/OffshoreParticles_1x0.5degree_file-30_27.8-30sigma0.nc',\n",
       " '/g/data/e14/hd4873/runs/parcels/output/AntConn/data/offshore/OffshoreParticles_1x0.5degree_file-31_27.8-30sigma0.nc',\n",
       " '/g/data/e14/hd4873/runs/parcels/output/AntConn/data/offshore/OffshoreParticles_1x0.5degree_file-32_27.8-30sigma0.nc',\n",
       " '/g/data/e14/hd4873/runs/parcels/output/AntConn/data/offshore/OffshoreParticles_1x0.5degree_file-33_27.8-30sigma0.nc',\n",
       " '/g/data/e14/hd4873/runs/parcels/output/AntConn/data/offshore/OffshoreParticles_1x0.5degree_file-34_27.8-30sigma0.nc',\n",
       " '/g/data/e14/hd4873/runs/parcels/output/AntConn/data/offshore/OffshoreParticles_1x0.5degree_file-35_27.8-30sigma0.nc',\n",
       " '/g/data/e14/hd4873/runs/parcels/output/AntConn/data/offshore/OffshoreParticles_1x0.5degree_file-36_27.8-30sigma0.nc',\n",
       " '/g/data/e14/hd4873/runs/parcels/output/AntConn/data/offshore/OffshoreParticles_1x0.5degree_file-37_27.8-30sigma0.nc',\n",
       " '/g/data/e14/hd4873/runs/parcels/output/AntConn/data/offshore/OffshoreParticles_1x0.5degree_file-38_27.8-30sigma0.nc',\n",
       " '/g/data/e14/hd4873/runs/parcels/output/AntConn/data/offshore/OffshoreParticles_1x0.5degree_file-39_27.8-30sigma0.nc',\n",
       " '/g/data/e14/hd4873/runs/parcels/output/AntConn/data/offshore/OffshoreParticles_1x0.5degree_file-40_27.8-30sigma0.nc',\n",
       " '/g/data/e14/hd4873/runs/parcels/output/AntConn/data/offshore/OffshoreParticles_1x0.5degree_file-41_27.8-30sigma0.nc',\n",
       " '/g/data/e14/hd4873/runs/parcels/output/AntConn/data/offshore/OffshoreParticles_1x0.5degree_file-42_27.8-30sigma0.nc',\n",
       " '/g/data/e14/hd4873/runs/parcels/output/AntConn/data/offshore/OffshoreParticles_1x0.5degree_file-43_27.8-30sigma0.nc',\n",
       " '/g/data/e14/hd4873/runs/parcels/output/AntConn/data/offshore/OffshoreParticles_1x0.5degree_file-44_27.8-30sigma0.nc',\n",
       " '/g/data/e14/hd4873/runs/parcels/output/AntConn/data/offshore/OffshoreParticles_1x0.5degree_file-45_27.8-30sigma0.nc',\n",
       " '/g/data/e14/hd4873/runs/parcels/output/AntConn/data/offshore/OffshoreParticles_1x0.5degree_file-46_27.8-30sigma0.nc',\n",
       " '/g/data/e14/hd4873/runs/parcels/output/AntConn/data/offshore/OffshoreParticles_1x0.5degree_file-47_27.8-30sigma0.nc',\n",
       " '/g/data/e14/hd4873/runs/parcels/output/AntConn/data/offshore/OffshoreParticles_1x0.5degree_file-48_27.8-30sigma0.nc',\n",
       " '/g/data/e14/hd4873/runs/parcels/output/AntConn/data/offshore/OffshoreParticles_1x0.5degree_file-49_27.8-30sigma0.nc',\n",
       " '/g/data/e14/hd4873/runs/parcels/output/AntConn/data/offshore/OffshoreParticles_1x0.5degree_file-50_27.8-30sigma0.nc',\n",
       " '/g/data/e14/hd4873/runs/parcels/output/AntConn/data/offshore/OffshoreParticles_1x0.5degree_file-51_27.8-30sigma0.nc',\n",
       " '/g/data/e14/hd4873/runs/parcels/output/AntConn/data/offshore/OffshoreParticles_1x0.5degree_file-52_27.8-30sigma0.nc',\n",
       " '/g/data/e14/hd4873/runs/parcels/output/AntConn/data/offshore/OffshoreParticles_1x0.5degree_file-53_27.8-30sigma0.nc',\n",
       " '/g/data/e14/hd4873/runs/parcels/output/AntConn/data/offshore/OffshoreParticles_1x0.5degree_file-54_27.8-30sigma0.nc',\n",
       " '/g/data/e14/hd4873/runs/parcels/output/AntConn/data/offshore/OffshoreParticles_1x0.5degree_file-55_27.8-30sigma0.nc',\n",
       " '/g/data/e14/hd4873/runs/parcels/output/AntConn/data/offshore/OffshoreParticles_1x0.5degree_file-56_27.8-30sigma0.nc',\n",
       " '/g/data/e14/hd4873/runs/parcels/output/AntConn/data/offshore/OffshoreParticles_1x0.5degree_file-57_27.8-30sigma0.nc',\n",
       " '/g/data/e14/hd4873/runs/parcels/output/AntConn/data/offshore/OffshoreParticles_1x0.5degree_file-58_27.8-30sigma0.nc',\n",
       " '/g/data/e14/hd4873/runs/parcels/output/AntConn/data/offshore/OffshoreParticles_1x0.5degree_file-59_27.8-30sigma0.nc',\n",
       " '/g/data/e14/hd4873/runs/parcels/output/AntConn/data/offshore/OffshoreParticles_1x0.5degree_file-60_27.8-30sigma0.nc',\n",
       " '/g/data/e14/hd4873/runs/parcels/output/AntConn/data/offshore/OffshoreParticles_1x0.5degree_file-61_27.8-30sigma0.nc',\n",
       " '/g/data/e14/hd4873/runs/parcels/output/AntConn/data/offshore/OffshoreParticles_1x0.5degree_file-62_27.8-30sigma0.nc',\n",
       " '/g/data/e14/hd4873/runs/parcels/output/AntConn/data/offshore/OffshoreParticles_1x0.5degree_file-63_27.8-30sigma0.nc',\n",
       " '/g/data/e14/hd4873/runs/parcels/output/AntConn/data/offshore/OffshoreParticles_1x0.5degree_file-64_27.8-30sigma0.nc',\n",
       " '/g/data/e14/hd4873/runs/parcels/output/AntConn/data/offshore/OffshoreParticles_1x0.5degree_file-65_27.8-30sigma0.nc',\n",
       " '/g/data/e14/hd4873/runs/parcels/output/AntConn/data/offshore/OffshoreParticles_1x0.5degree_file-66_27.8-30sigma0.nc',\n",
       " '/g/data/e14/hd4873/runs/parcels/output/AntConn/data/offshore/OffshoreParticles_1x0.5degree_file-67_27.8-30sigma0.nc',\n",
       " '/g/data/e14/hd4873/runs/parcels/output/AntConn/data/offshore/OffshoreParticles_1x0.5degree_file-68_27.8-30sigma0.nc',\n",
       " '/g/data/e14/hd4873/runs/parcels/output/AntConn/data/offshore/OffshoreParticles_1x0.5degree_file-69_27.8-30sigma0.nc',\n",
       " '/g/data/e14/hd4873/runs/parcels/output/AntConn/data/offshore/OffshoreParticles_1x0.5degree_file-70_27.8-30sigma0.nc',\n",
       " '/g/data/e14/hd4873/runs/parcels/output/AntConn/data/offshore/OffshoreParticles_1x0.5degree_file-71_27.8-30sigma0.nc',\n",
       " '/g/data/e14/hd4873/runs/parcels/output/AntConn/data/offshore/OffshoreParticles_1x0.5degree_file-72_27.8-30sigma0.nc']"
      ]
     },
     "execution_count": 14,
     "metadata": {},
     "output_type": "execute_result"
    }
   ],
   "source": [
    "# Define offshore count files\n",
    "datadir = '/g/data/e14/hd4873/runs/parcels/output/AntConn/data/offshore/'\n",
    "files = sorted(glob(datadir+'OffshoreParticles_1x0.5degree_file-*_{}-{}sigma0.nc'.format(zstart, zend)))\n",
    "#files = files[0:-1]\n",
    "print(len(files))\n",
    "files"
   ]
  },
  {
   "cell_type": "code",
   "execution_count": 16,
   "id": "bc34f16c-eecb-46b5-b581-faeec8d05aa4",
   "metadata": {
    "scrolled": true,
    "tags": []
   },
   "outputs": [
    {
     "name": "stdout",
     "output_type": "stream",
     "text": [
      "0 /g/data/e14/hd4873/runs/parcels/output/AntConn/data/offshore/OffshoreParticles_1x0.5degree_file-00_27.8-30sigma0.nc\n",
      "1 /g/data/e14/hd4873/runs/parcels/output/AntConn/data/offshore/OffshoreParticles_1x0.5degree_file-01_27.8-30sigma0.nc\n",
      "2 /g/data/e14/hd4873/runs/parcels/output/AntConn/data/offshore/OffshoreParticles_1x0.5degree_file-02_27.8-30sigma0.nc\n",
      "3 /g/data/e14/hd4873/runs/parcels/output/AntConn/data/offshore/OffshoreParticles_1x0.5degree_file-03_27.8-30sigma0.nc\n",
      "4 /g/data/e14/hd4873/runs/parcels/output/AntConn/data/offshore/OffshoreParticles_1x0.5degree_file-04_27.8-30sigma0.nc\n",
      "5 /g/data/e14/hd4873/runs/parcels/output/AntConn/data/offshore/OffshoreParticles_1x0.5degree_file-05_27.8-30sigma0.nc\n",
      "6 /g/data/e14/hd4873/runs/parcels/output/AntConn/data/offshore/OffshoreParticles_1x0.5degree_file-06_27.8-30sigma0.nc\n",
      "7 /g/data/e14/hd4873/runs/parcels/output/AntConn/data/offshore/OffshoreParticles_1x0.5degree_file-07_27.8-30sigma0.nc\n",
      "8 /g/data/e14/hd4873/runs/parcels/output/AntConn/data/offshore/OffshoreParticles_1x0.5degree_file-08_27.8-30sigma0.nc\n",
      "9 /g/data/e14/hd4873/runs/parcels/output/AntConn/data/offshore/OffshoreParticles_1x0.5degree_file-09_27.8-30sigma0.nc\n",
      "10 /g/data/e14/hd4873/runs/parcels/output/AntConn/data/offshore/OffshoreParticles_1x0.5degree_file-10_27.8-30sigma0.nc\n",
      "11 /g/data/e14/hd4873/runs/parcels/output/AntConn/data/offshore/OffshoreParticles_1x0.5degree_file-11_27.8-30sigma0.nc\n",
      "12 /g/data/e14/hd4873/runs/parcels/output/AntConn/data/offshore/OffshoreParticles_1x0.5degree_file-12_27.8-30sigma0.nc\n",
      "13 /g/data/e14/hd4873/runs/parcels/output/AntConn/data/offshore/OffshoreParticles_1x0.5degree_file-13_27.8-30sigma0.nc\n",
      "14 /g/data/e14/hd4873/runs/parcels/output/AntConn/data/offshore/OffshoreParticles_1x0.5degree_file-14_27.8-30sigma0.nc\n",
      "15 /g/data/e14/hd4873/runs/parcels/output/AntConn/data/offshore/OffshoreParticles_1x0.5degree_file-15_27.8-30sigma0.nc\n",
      "16 /g/data/e14/hd4873/runs/parcels/output/AntConn/data/offshore/OffshoreParticles_1x0.5degree_file-16_27.8-30sigma0.nc\n",
      "17 /g/data/e14/hd4873/runs/parcels/output/AntConn/data/offshore/OffshoreParticles_1x0.5degree_file-17_27.8-30sigma0.nc\n",
      "18 /g/data/e14/hd4873/runs/parcels/output/AntConn/data/offshore/OffshoreParticles_1x0.5degree_file-18_27.8-30sigma0.nc\n",
      "19 /g/data/e14/hd4873/runs/parcels/output/AntConn/data/offshore/OffshoreParticles_1x0.5degree_file-19_27.8-30sigma0.nc\n",
      "20 /g/data/e14/hd4873/runs/parcels/output/AntConn/data/offshore/OffshoreParticles_1x0.5degree_file-20_27.8-30sigma0.nc\n",
      "21 /g/data/e14/hd4873/runs/parcels/output/AntConn/data/offshore/OffshoreParticles_1x0.5degree_file-21_27.8-30sigma0.nc\n",
      "22 /g/data/e14/hd4873/runs/parcels/output/AntConn/data/offshore/OffshoreParticles_1x0.5degree_file-22_27.8-30sigma0.nc\n",
      "23 /g/data/e14/hd4873/runs/parcels/output/AntConn/data/offshore/OffshoreParticles_1x0.5degree_file-23_27.8-30sigma0.nc\n",
      "24 /g/data/e14/hd4873/runs/parcels/output/AntConn/data/offshore/OffshoreParticles_1x0.5degree_file-24_27.8-30sigma0.nc\n",
      "25 /g/data/e14/hd4873/runs/parcels/output/AntConn/data/offshore/OffshoreParticles_1x0.5degree_file-25_27.8-30sigma0.nc\n",
      "26 /g/data/e14/hd4873/runs/parcels/output/AntConn/data/offshore/OffshoreParticles_1x0.5degree_file-26_27.8-30sigma0.nc\n",
      "27 /g/data/e14/hd4873/runs/parcels/output/AntConn/data/offshore/OffshoreParticles_1x0.5degree_file-27_27.8-30sigma0.nc\n",
      "28 /g/data/e14/hd4873/runs/parcels/output/AntConn/data/offshore/OffshoreParticles_1x0.5degree_file-28_27.8-30sigma0.nc\n",
      "29 /g/data/e14/hd4873/runs/parcels/output/AntConn/data/offshore/OffshoreParticles_1x0.5degree_file-29_27.8-30sigma0.nc\n",
      "30 /g/data/e14/hd4873/runs/parcels/output/AntConn/data/offshore/OffshoreParticles_1x0.5degree_file-30_27.8-30sigma0.nc\n",
      "31 /g/data/e14/hd4873/runs/parcels/output/AntConn/data/offshore/OffshoreParticles_1x0.5degree_file-31_27.8-30sigma0.nc\n",
      "32 /g/data/e14/hd4873/runs/parcels/output/AntConn/data/offshore/OffshoreParticles_1x0.5degree_file-32_27.8-30sigma0.nc\n",
      "33 /g/data/e14/hd4873/runs/parcels/output/AntConn/data/offshore/OffshoreParticles_1x0.5degree_file-33_27.8-30sigma0.nc\n",
      "34 /g/data/e14/hd4873/runs/parcels/output/AntConn/data/offshore/OffshoreParticles_1x0.5degree_file-34_27.8-30sigma0.nc\n",
      "35 /g/data/e14/hd4873/runs/parcels/output/AntConn/data/offshore/OffshoreParticles_1x0.5degree_file-35_27.8-30sigma0.nc\n",
      "36 /g/data/e14/hd4873/runs/parcels/output/AntConn/data/offshore/OffshoreParticles_1x0.5degree_file-36_27.8-30sigma0.nc\n",
      "37 /g/data/e14/hd4873/runs/parcels/output/AntConn/data/offshore/OffshoreParticles_1x0.5degree_file-37_27.8-30sigma0.nc\n",
      "38 /g/data/e14/hd4873/runs/parcels/output/AntConn/data/offshore/OffshoreParticles_1x0.5degree_file-38_27.8-30sigma0.nc\n",
      "39 /g/data/e14/hd4873/runs/parcels/output/AntConn/data/offshore/OffshoreParticles_1x0.5degree_file-39_27.8-30sigma0.nc\n",
      "40 /g/data/e14/hd4873/runs/parcels/output/AntConn/data/offshore/OffshoreParticles_1x0.5degree_file-40_27.8-30sigma0.nc\n",
      "41 /g/data/e14/hd4873/runs/parcels/output/AntConn/data/offshore/OffshoreParticles_1x0.5degree_file-41_27.8-30sigma0.nc\n",
      "42 /g/data/e14/hd4873/runs/parcels/output/AntConn/data/offshore/OffshoreParticles_1x0.5degree_file-42_27.8-30sigma0.nc\n",
      "43 /g/data/e14/hd4873/runs/parcels/output/AntConn/data/offshore/OffshoreParticles_1x0.5degree_file-43_27.8-30sigma0.nc\n",
      "44 /g/data/e14/hd4873/runs/parcels/output/AntConn/data/offshore/OffshoreParticles_1x0.5degree_file-44_27.8-30sigma0.nc\n",
      "45 /g/data/e14/hd4873/runs/parcels/output/AntConn/data/offshore/OffshoreParticles_1x0.5degree_file-45_27.8-30sigma0.nc\n",
      "46 /g/data/e14/hd4873/runs/parcels/output/AntConn/data/offshore/OffshoreParticles_1x0.5degree_file-46_27.8-30sigma0.nc\n",
      "47 /g/data/e14/hd4873/runs/parcels/output/AntConn/data/offshore/OffshoreParticles_1x0.5degree_file-47_27.8-30sigma0.nc\n",
      "48 /g/data/e14/hd4873/runs/parcels/output/AntConn/data/offshore/OffshoreParticles_1x0.5degree_file-48_27.8-30sigma0.nc\n",
      "49 /g/data/e14/hd4873/runs/parcels/output/AntConn/data/offshore/OffshoreParticles_1x0.5degree_file-49_27.8-30sigma0.nc\n",
      "50 /g/data/e14/hd4873/runs/parcels/output/AntConn/data/offshore/OffshoreParticles_1x0.5degree_file-50_27.8-30sigma0.nc\n",
      "51 /g/data/e14/hd4873/runs/parcels/output/AntConn/data/offshore/OffshoreParticles_1x0.5degree_file-51_27.8-30sigma0.nc\n",
      "52 /g/data/e14/hd4873/runs/parcels/output/AntConn/data/offshore/OffshoreParticles_1x0.5degree_file-52_27.8-30sigma0.nc\n",
      "53 /g/data/e14/hd4873/runs/parcels/output/AntConn/data/offshore/OffshoreParticles_1x0.5degree_file-53_27.8-30sigma0.nc\n",
      "54 /g/data/e14/hd4873/runs/parcels/output/AntConn/data/offshore/OffshoreParticles_1x0.5degree_file-54_27.8-30sigma0.nc\n",
      "55 /g/data/e14/hd4873/runs/parcels/output/AntConn/data/offshore/OffshoreParticles_1x0.5degree_file-55_27.8-30sigma0.nc\n",
      "56 /g/data/e14/hd4873/runs/parcels/output/AntConn/data/offshore/OffshoreParticles_1x0.5degree_file-56_27.8-30sigma0.nc\n",
      "57 /g/data/e14/hd4873/runs/parcels/output/AntConn/data/offshore/OffshoreParticles_1x0.5degree_file-57_27.8-30sigma0.nc\n",
      "58 /g/data/e14/hd4873/runs/parcels/output/AntConn/data/offshore/OffshoreParticles_1x0.5degree_file-58_27.8-30sigma0.nc\n",
      "59 /g/data/e14/hd4873/runs/parcels/output/AntConn/data/offshore/OffshoreParticles_1x0.5degree_file-59_27.8-30sigma0.nc\n",
      "60 /g/data/e14/hd4873/runs/parcels/output/AntConn/data/offshore/OffshoreParticles_1x0.5degree_file-60_27.8-30sigma0.nc\n",
      "61 /g/data/e14/hd4873/runs/parcels/output/AntConn/data/offshore/OffshoreParticles_1x0.5degree_file-61_27.8-30sigma0.nc\n",
      "62 /g/data/e14/hd4873/runs/parcels/output/AntConn/data/offshore/OffshoreParticles_1x0.5degree_file-62_27.8-30sigma0.nc\n",
      "63 /g/data/e14/hd4873/runs/parcels/output/AntConn/data/offshore/OffshoreParticles_1x0.5degree_file-63_27.8-30sigma0.nc\n",
      "64 /g/data/e14/hd4873/runs/parcels/output/AntConn/data/offshore/OffshoreParticles_1x0.5degree_file-64_27.8-30sigma0.nc\n",
      "65 /g/data/e14/hd4873/runs/parcels/output/AntConn/data/offshore/OffshoreParticles_1x0.5degree_file-65_27.8-30sigma0.nc\n",
      "66 /g/data/e14/hd4873/runs/parcels/output/AntConn/data/offshore/OffshoreParticles_1x0.5degree_file-66_27.8-30sigma0.nc\n",
      "67 /g/data/e14/hd4873/runs/parcels/output/AntConn/data/offshore/OffshoreParticles_1x0.5degree_file-67_27.8-30sigma0.nc\n",
      "68 /g/data/e14/hd4873/runs/parcels/output/AntConn/data/offshore/OffshoreParticles_1x0.5degree_file-68_27.8-30sigma0.nc\n",
      "69 /g/data/e14/hd4873/runs/parcels/output/AntConn/data/offshore/OffshoreParticles_1x0.5degree_file-69_27.8-30sigma0.nc\n",
      "70 /g/data/e14/hd4873/runs/parcels/output/AntConn/data/offshore/OffshoreParticles_1x0.5degree_file-70_27.8-30sigma0.nc\n",
      "71 /g/data/e14/hd4873/runs/parcels/output/AntConn/data/offshore/OffshoreParticles_1x0.5degree_file-71_27.8-30sigma0.nc\n",
      "72 /g/data/e14/hd4873/runs/parcels/output/AntConn/data/offshore/OffshoreParticles_1x0.5degree_file-72_27.8-30sigma0.nc\n"
     ]
    }
   ],
   "source": [
    "for i in range(len(files)):\n",
    "    print (i, files[i])\n",
    "    \n",
    "    ds = xr.open_dataset(files[i])\n",
    "    \n",
    "    if i == 0:\n",
    "        ds_comb = ds.copy(deep=True)\n",
    "        ds_comb['count'][:,:] = np.nan_to_num(ds_comb['count'])\n",
    "        ds_comb['count_norm'][:,:] = np.nan_to_num(ds_comb['count_norm'])\n",
    "        ds_comb['count_transnorm'][:,:] = np.nan_to_num(ds_comb['count_transnorm'])\n",
    "        ds_comb['count_trans'][:,:] = np.nan_to_num(ds_comb['count_trans'])\n",
    "    else:\n",
    "        # error checking\n",
    "        j = random.randint(0, 179)\n",
    "        k = random.randint(0, 25)\n",
    "        val1 = np.nan_to_num(ds_comb['count_transnorm'][j,k])\n",
    "        val2 = np.nan_to_num(ds['count_transnorm'][j,k])\n",
    "        sumvals = val1+val2\n",
    "        ds_comb['count'][:,:] = np.nan_to_num(ds_comb['count']) + np.nan_to_num(ds['count'])\n",
    "        ds_comb['count_norm'][:,:] = np.nan_to_num(ds_comb['count_norm']) + np.nan_to_num(ds['count_norm'])\n",
    "        ds_comb['count_transnorm'][:,:] = np.nan_to_num(ds_comb['count_transnorm']) + np.nan_to_num(ds['count_transnorm'])\n",
    "        ds_comb['count_trans'][:,:] = np.nan_to_num(ds_comb['count_trans']) + np.nan_to_num(ds['count_trans'])\n",
    "        # error check\n",
    "        if ds_comb['count_transnorm'][j,k].values != sumvals:\n",
    "            print(\"ERROR: Summation is not corrent\")\n",
    "            print(i, j, k, 'value 1',val1, 'value 2', val2, 'sum:', sumvals, 'dataset sum:', ds_comb['count_transnorm'][j,k].values)\n",
    "            break\n",
    "            \n",
    "            \n",
    "ds_comb['count'] = ds_comb['count'].where(ds_comb['count']>0, np.nan)\n",
    "ds_comb['count_norm'] = ds_comb['count_norm'].where(ds_comb['count_norm']>0, np.nan)       \n",
    "ds_comb['count_transnorm'] = ds_comb['count_transnorm'].where(ds_comb['count_transnorm']>0, np.nan) \n",
    "ds_comb['count_trans'] = ds_comb['count_trans'].where(ds_comb['count_trans']>0, np.nan)  \n",
    "# rename count variable to avoid bound method issue\n",
    "ds_comb = ds_comb.rename({'count': 'count_tot'})"
   ]
  },
  {
   "cell_type": "code",
   "execution_count": 17,
   "id": "40f8ff65-e013-4b8b-9ee4-9eafc0da7eac",
   "metadata": {},
   "outputs": [
    {
     "name": "stdout",
     "output_type": "stream",
     "text": [
      "Saving to netCDF file: /g/data/e14/hd4873/runs/parcels/output/AntConn/data/offshore/OffshoreParticles_1x0.5degree_27.8-30sigma0.nc\n"
     ]
    }
   ],
   "source": [
    "outfile = datadir+'OffshoreParticles_1x0.5degree_{}-{}sigma0.nc'.format(zstart, zend)\n",
    "#print(outfile)\n",
    "\n",
    "# Save to file\n",
    "print(\"Saving to netCDF file:\", outfile)\n",
    "encod={}\n",
    "for var in ds_comb.data_vars:\n",
    "    encod[var]={'zlib':True}\n",
    "ds_comb.to_netcdf(outfile)"
   ]
  },
  {
   "cell_type": "code",
   "execution_count": 18,
   "id": "87c15839-11a8-4061-bf3f-7c6326523ade",
   "metadata": {},
   "outputs": [],
   "source": [
    "# Now remove the individual files\n",
    "\n",
    "! rm /g/data/e14/hd4873/runs/parcels/output/AntConn/data/offshore/OffshoreParticles_1x0.5degree_file-*_*sigma0.nc"
   ]
  }
 ],
 "metadata": {
  "kernelspec": {
   "display_name": "Python [conda env:analysis27-18.10]",
   "language": "python",
   "name": "conda-env-analysis27-18.10-py"
  },
  "language_info": {
   "codemirror_mode": {
    "name": "ipython",
    "version": 2
   },
   "file_extension": ".py",
   "mimetype": "text/x-python",
   "name": "python",
   "nbconvert_exporter": "python",
   "pygments_lexer": "ipython2",
   "version": "2.7.15"
  }
 },
 "nbformat": 4,
 "nbformat_minor": 5
}
