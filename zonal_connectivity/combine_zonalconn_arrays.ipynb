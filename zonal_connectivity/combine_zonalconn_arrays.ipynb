{
 "cells": [
  {
   "cell_type": "code",
   "execution_count": 1,
   "id": "377e4865-2fec-4f99-9a7f-755256b6604f",
   "metadata": {},
   "outputs": [],
   "source": [
    "import xarray as xr\n",
    "import numpy as np\n",
    "from glob import glob"
   ]
  },
  {
   "cell_type": "code",
   "execution_count": 2,
   "id": "d1672cc1-bb87-4b4e-ac0e-321ec410b40b",
   "metadata": {},
   "outputs": [
    {
     "name": "stdout",
     "output_type": "stream",
     "text": [
      "21 21\n"
     ]
    },
    {
     "data": {
      "text/plain": [
       "['/g/data/e14/hd4873/runs/parcels/output/AntConn/data/zonal_conn/zonal_connectivity_shelf_east_00.nc',\n",
       " '/g/data/e14/hd4873/runs/parcels/output/AntConn/data/zonal_conn/zonal_connectivity_shelf_east_01.nc',\n",
       " '/g/data/e14/hd4873/runs/parcels/output/AntConn/data/zonal_conn/zonal_connectivity_shelf_east_02.nc',\n",
       " '/g/data/e14/hd4873/runs/parcels/output/AntConn/data/zonal_conn/zonal_connectivity_shelf_east_03.nc',\n",
       " '/g/data/e14/hd4873/runs/parcels/output/AntConn/data/zonal_conn/zonal_connectivity_shelf_east_04.nc',\n",
       " '/g/data/e14/hd4873/runs/parcels/output/AntConn/data/zonal_conn/zonal_connectivity_shelf_east_05.nc',\n",
       " '/g/data/e14/hd4873/runs/parcels/output/AntConn/data/zonal_conn/zonal_connectivity_shelf_east_06.nc',\n",
       " '/g/data/e14/hd4873/runs/parcels/output/AntConn/data/zonal_conn/zonal_connectivity_shelf_east_07.nc',\n",
       " '/g/data/e14/hd4873/runs/parcels/output/AntConn/data/zonal_conn/zonal_connectivity_shelf_east_08.nc',\n",
       " '/g/data/e14/hd4873/runs/parcels/output/AntConn/data/zonal_conn/zonal_connectivity_shelf_east_09.nc',\n",
       " '/g/data/e14/hd4873/runs/parcels/output/AntConn/data/zonal_conn/zonal_connectivity_shelf_east_10.nc',\n",
       " '/g/data/e14/hd4873/runs/parcels/output/AntConn/data/zonal_conn/zonal_connectivity_shelf_east_11.nc',\n",
       " '/g/data/e14/hd4873/runs/parcels/output/AntConn/data/zonal_conn/zonal_connectivity_shelf_east_12.nc',\n",
       " '/g/data/e14/hd4873/runs/parcels/output/AntConn/data/zonal_conn/zonal_connectivity_shelf_east_13.nc',\n",
       " '/g/data/e14/hd4873/runs/parcels/output/AntConn/data/zonal_conn/zonal_connectivity_shelf_east_14.nc',\n",
       " '/g/data/e14/hd4873/runs/parcels/output/AntConn/data/zonal_conn/zonal_connectivity_shelf_east_15.nc',\n",
       " '/g/data/e14/hd4873/runs/parcels/output/AntConn/data/zonal_conn/zonal_connectivity_shelf_east_16.nc',\n",
       " '/g/data/e14/hd4873/runs/parcels/output/AntConn/data/zonal_conn/zonal_connectivity_shelf_east_17.nc',\n",
       " '/g/data/e14/hd4873/runs/parcels/output/AntConn/data/zonal_conn/zonal_connectivity_shelf_east_18.nc',\n",
       " '/g/data/e14/hd4873/runs/parcels/output/AntConn/data/zonal_conn/zonal_connectivity_shelf_east_19.nc',\n",
       " '/g/data/e14/hd4873/runs/parcels/output/AntConn/data/zonal_conn/zonal_connectivity_shelf_east_20.nc']"
      ]
     },
     "execution_count": 2,
     "metadata": {},
     "output_type": "execute_result"
    }
   ],
   "source": [
    "shelfwestfiles = sorted(glob('/g/data/e14/hd4873/runs/parcels/output/AntConn/data/zonal_conn/zonal_connectivity_shelf_west_*.nc'))\n",
    "shelfeastfiles = sorted(glob('/g/data/e14/hd4873/runs/parcels/output/AntConn/data/zonal_conn/zonal_connectivity_shelf_east_*.nc'))\n",
    "print(len(shelfeastfiles), len(shelfwestfiles))\n",
    "shelfeastfiles"
   ]
  },
  {
   "cell_type": "code",
   "execution_count": 3,
   "id": "dcebf86d-87e4-4a43-8bd5-dc3056229f20",
   "metadata": {},
   "outputs": [],
   "source": [
    "# Add in shelf west values\n",
    "for i in range(21):\n",
    "    #print(i)\n",
    "    if i == 0:\n",
    "        ds = xr.open_dataset(shelfwestfiles[i])\n",
    "    else:\n",
    "        tmp = xr.open_dataset(shelfwestfiles[i])\n",
    "        ds.conn_count[i,4] = tmp.conn_count[i,4].values\n",
    "        ds.conn_count_pct[i,4] = tmp.conn_count_pct[i,4].values\n",
    "        ds.conn_trans[i,4] = tmp.conn_trans[i,4].values\n",
    "        ds.conn_trans_pct[i,4] = tmp.conn_trans_pct[i,4].values"
   ]
  },
  {
   "cell_type": "code",
   "execution_count": 4,
   "id": "3e39c236-a1e3-48dd-98f1-63a33aa23152",
   "metadata": {},
   "outputs": [],
   "source": [
    "# Now add in shelf east values\n",
    "for i in range(21):\n",
    "    tmp = xr.open_dataset(shelfeastfiles[i])\n",
    "    ds.conn_count[i,0] = tmp.conn_count[i,0].values\n",
    "    ds.conn_count_pct[i,0] = tmp.conn_count_pct[i,0].values\n",
    "    ds.conn_trans[i,0] = tmp.conn_trans[i,0].values\n",
    "    ds.conn_trans_pct[i,0] = tmp.conn_trans_pct[i,0].values"
   ]
  },
  {
   "cell_type": "code",
   "execution_count": 8,
   "id": "8f043ec4-2edf-44a4-81ae-6aaa7962b91b",
   "metadata": {},
   "outputs": [],
   "source": [
    "ds.to_netcdf('/g/data/e14/hd4873/runs/parcels/output/AntConn/data/zonal_conn/zonal_connectivity_counts_NEW.nc')"
   ]
  }
 ],
 "metadata": {
  "kernelspec": {
   "display_name": "Python [conda env:analysis3-22.01]",
   "language": "python",
   "name": "conda-env-analysis3-22.01-py"
  },
  "language_info": {
   "codemirror_mode": {
    "name": "ipython",
    "version": 3
   },
   "file_extension": ".py",
   "mimetype": "text/x-python",
   "name": "python",
   "nbconvert_exporter": "python",
   "pygments_lexer": "ipython3",
   "version": "3.9.12"
  }
 },
 "nbformat": 4,
 "nbformat_minor": 5
}
